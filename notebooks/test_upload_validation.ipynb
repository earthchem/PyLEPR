{
 "cells": [
  {
   "attachments": {},
   "cell_type": "markdown",
   "metadata": {},
   "source": [
    "# Proof of concept validation notebook for LEPR upload"
   ]
  },
  {
   "cell_type": "code",
   "execution_count": 1,
   "metadata": {},
   "outputs": [],
   "source": [
    "import pandas as pd\n",
    "import numpy as np\n",
    "import xlrd\n",
    "import logging"
   ]
  },
  {
   "cell_type": "code",
   "execution_count": 2,
   "metadata": {},
   "outputs": [],
   "source": [
    "log_filename = 'validation.log'\n",
    "logging.basicConfig(filename=log_filename,\n",
    "                    filemode='w',\n",
    "                    format=\"---> %(levelname)s_(%(funcName)s):: %(message)s.\")\n",
    "\n",
    "def print_log_file(log_filename=log_filename):\n",
    "    with open(log_filename, 'r') as fin:\n",
    "        print(fin.read())"
   ]
  },
  {
   "cell_type": "code",
   "execution_count": 3,
   "metadata": {},
   "outputs": [],
   "source": [
    "upload_data = pd.read_excel('../data/upload_validation.xlsx', sheet_name=None)"
   ]
  },
  {
   "cell_type": "code",
   "execution_count": 4,
   "metadata": {},
   "outputs": [],
   "source": [
    "def extract_chem_dat(upload_data):\n",
    "    run_products = upload_data['6 Run Products']\n",
    "    \n",
    "    header_row_num = 4\n",
    "    chem_dat_col_index = 13\n",
    "    run_names = run_products.iloc[header_row_num+1:,0]\n",
    "\n",
    "    dat = run_products.iloc[:,chem_dat_col_index:]\n",
    "    dat.columns = dat.iloc[0]\n",
    "    dat = dat.iloc[1:]\n",
    "    chem_dat_info = dat.iloc[:2]\n",
    "    chem_dat_info.index = ['method_id','unit']\n",
    "\n",
    "    chem_dat = dat.iloc[header_row_num:]\n",
    "    chem_dat\n",
    "    chem_dat.index = run_names\n",
    "\n",
    "    return chem_dat, chem_dat_info"
   ]
  },
  {
   "cell_type": "code",
   "execution_count": null,
   "metadata": {},
   "outputs": [],
   "source": []
  },
  {
   "cell_type": "code",
   "execution_count": 5,
   "metadata": {},
   "outputs": [
    {
     "data": {
      "text/html": [
       "<div>\n",
       "<style scoped>\n",
       "    .dataframe tbody tr th:only-of-type {\n",
       "        vertical-align: middle;\n",
       "    }\n",
       "\n",
       "    .dataframe tbody tr th {\n",
       "        vertical-align: top;\n",
       "    }\n",
       "\n",
       "    .dataframe thead th {\n",
       "        text-align: right;\n",
       "    }\n",
       "</style>\n",
       "<table border=\"1\" class=\"dataframe\">\n",
       "  <thead>\n",
       "    <tr style=\"text-align: right;\">\n",
       "      <th></th>\n",
       "      <th>SiO2</th>\n",
       "      <th>SiO2_err</th>\n",
       "      <th>TiO2</th>\n",
       "      <th>FeO*</th>\n",
       "      <th>FeOtot</th>\n",
       "      <th>Al2O3</th>\n",
       "      <th>MgO</th>\n",
       "    </tr>\n",
       "  </thead>\n",
       "  <tbody>\n",
       "    <tr>\n",
       "      <th>method_id</th>\n",
       "      <td>1</td>\n",
       "      <td>1</td>\n",
       "      <td>1</td>\n",
       "      <td>1</td>\n",
       "      <td>2</td>\n",
       "      <td>1</td>\n",
       "      <td>NaN</td>\n",
       "    </tr>\n",
       "    <tr>\n",
       "      <th>unit</th>\n",
       "      <td>wt%</td>\n",
       "      <td>wt%</td>\n",
       "      <td>wt%</td>\n",
       "      <td>wt%</td>\n",
       "      <td>wt%</td>\n",
       "      <td>NaN</td>\n",
       "      <td>wt%</td>\n",
       "    </tr>\n",
       "  </tbody>\n",
       "</table>\n",
       "</div>"
      ],
      "text/plain": [
       "0         SiO2 SiO2_err TiO2 FeO* FeOtot Al2O3  MgO\n",
       "method_id    1        1    1    1      2     1  NaN\n",
       "unit       wt%      wt%  wt%  wt%    wt%   NaN  wt%"
      ]
     },
     "execution_count": 5,
     "metadata": {},
     "output_type": "execute_result"
    }
   ],
   "source": [
    "chem_dat, chem_dat_info = extract_chem_dat(upload_data)\n",
    "chem_dat_info"
   ]
  },
  {
   "cell_type": "code",
   "execution_count": null,
   "metadata": {},
   "outputs": [],
   "source": []
  },
  {
   "cell_type": "code",
   "execution_count": 6,
   "metadata": {},
   "outputs": [],
   "source": [
    "def validate_chem_error_columns(chem_dat_info):\n",
    "    columns = chem_dat_info.columns\n",
    "    meas_cols = [col for col in columns if not col.endswith('_err') ]\n",
    "    for col in meas_cols:\n",
    "        if col+'_err' not in columns:\n",
    "            logging.error(f\"'{col}_err' missing from chemistry data columns\")\n",
    "            \n",
    "\n",
    "def validate_chem_units(chem_dat_info):\n",
    "    for (col, dat) in chem_dat_info.T.iterrows():\n",
    "        if dat.unit is np.nan:\n",
    "            logging.critical(f\"'{col}' does not provide any units\")\n",
    "            \n",
    "def validate_chem_method(chem_dat_info):\n",
    "    for (col, dat) in chem_dat_info.T.iterrows():\n",
    "        if dat.method_id is np.nan:\n",
    "            logging.critical(f\"'{col}' does not provide any method id\")"
   ]
  },
  {
   "cell_type": "code",
   "execution_count": 7,
   "metadata": {},
   "outputs": [],
   "source": [
    "validate_chem_error_columns(chem_dat_info)\n",
    "validate_chem_units(chem_dat_info)\n",
    "validate_chem_method(chem_dat_info)"
   ]
  },
  {
   "cell_type": "code",
   "execution_count": 8,
   "metadata": {},
   "outputs": [
    {
     "data": {
      "text/html": [
       "<div>\n",
       "<style scoped>\n",
       "    .dataframe tbody tr th:only-of-type {\n",
       "        vertical-align: middle;\n",
       "    }\n",
       "\n",
       "    .dataframe tbody tr th {\n",
       "        vertical-align: top;\n",
       "    }\n",
       "\n",
       "    .dataframe thead th {\n",
       "        text-align: right;\n",
       "    }\n",
       "</style>\n",
       "<table border=\"1\" class=\"dataframe\">\n",
       "  <thead>\n",
       "    <tr style=\"text-align: right;\">\n",
       "      <th></th>\n",
       "      <th>SiO2</th>\n",
       "      <th>SiO2_err</th>\n",
       "      <th>TiO2</th>\n",
       "      <th>FeO*</th>\n",
       "      <th>FeOtot</th>\n",
       "      <th>Al2O3</th>\n",
       "      <th>MgO</th>\n",
       "    </tr>\n",
       "    <tr>\n",
       "      <th>Analytical Data</th>\n",
       "      <th></th>\n",
       "      <th></th>\n",
       "      <th></th>\n",
       "      <th></th>\n",
       "      <th></th>\n",
       "      <th></th>\n",
       "      <th></th>\n",
       "    </tr>\n",
       "  </thead>\n",
       "  <tbody>\n",
       "    <tr>\n",
       "      <th>Run_1</th>\n",
       "      <td>47.5</td>\n",
       "      <td>(1)</td>\n",
       "      <td>0.61</td>\n",
       "      <td>NaN</td>\n",
       "      <td>NaN</td>\n",
       "      <td>NaN</td>\n",
       "      <td>NaN</td>\n",
       "    </tr>\n",
       "    <tr>\n",
       "      <th>Run_2</th>\n",
       "      <td>49.2</td>\n",
       "      <td>0.1</td>\n",
       "      <td>0.42</td>\n",
       "      <td>NaN</td>\n",
       "      <td>NaN</td>\n",
       "      <td>NaN</td>\n",
       "      <td>NaN</td>\n",
       "    </tr>\n",
       "    <tr>\n",
       "      <th>Run_3</th>\n",
       "      <td>48.1</td>\n",
       "      <td>NaN</td>\n",
       "      <td>0</td>\n",
       "      <td>NaN</td>\n",
       "      <td>NaN</td>\n",
       "      <td>NaN</td>\n",
       "      <td>NaN</td>\n",
       "    </tr>\n",
       "    <tr>\n",
       "      <th>Run_4</th>\n",
       "      <td>46</td>\n",
       "      <td>NaN</td>\n",
       "      <td>&lt;0.7</td>\n",
       "      <td>NaN</td>\n",
       "      <td>NaN</td>\n",
       "      <td>NaN</td>\n",
       "      <td>NaN</td>\n",
       "    </tr>\n",
       "    <tr>\n",
       "      <th>Run_5</th>\n",
       "      <td>49</td>\n",
       "      <td>NaN</td>\n",
       "      <td>nd</td>\n",
       "      <td>NaN</td>\n",
       "      <td>NaN</td>\n",
       "      <td>NaN</td>\n",
       "      <td>NaN</td>\n",
       "    </tr>\n",
       "  </tbody>\n",
       "</table>\n",
       "</div>"
      ],
      "text/plain": [
       "0                SiO2 SiO2_err  TiO2 FeO* FeOtot Al2O3  MgO\n",
       "Analytical Data                                            \n",
       "Run_1            47.5      (1)  0.61  NaN    NaN   NaN  NaN\n",
       "Run_2            49.2      0.1  0.42  NaN    NaN   NaN  NaN\n",
       "Run_3            48.1      NaN     0  NaN    NaN   NaN  NaN\n",
       "Run_4              46      NaN  <0.7  NaN    NaN   NaN  NaN\n",
       "Run_5              49      NaN    nd  NaN    NaN   NaN  NaN"
      ]
     },
     "execution_count": 8,
     "metadata": {},
     "output_type": "execute_result"
    }
   ],
   "source": [
    "chem_dat.head()"
   ]
  },
  {
   "cell_type": "code",
   "execution_count": 9,
   "metadata": {},
   "outputs": [],
   "source": [
    "ichem_dat = chem_dat.iloc[:,1]\n",
    "\n",
    "# def validate_numeric_chem_data(ichem_dat):\n",
    "\n",
    "        \n",
    " \n",
    "def chem_not_detected_not_valid(val, chem, run_id):\n",
    "    if val=='nd':\n",
    "        logging.error(f\"'{val}', the '{chem}' value for exp_run '{run_id}', is not valid. If not detected use vocabulary 'bdl'\")\n",
    "        return True\n",
    "    \n",
    "    return False\n",
    "\n",
    "def chem_not_measured_not_valid(val, chem, run_id):\n",
    "    if val=='-':\n",
    "        logging.error(f\"'{val}', the '{chem}' value for exp_run '{run_id}', is not valid. If not measured leave entry blank\")\n",
    "        return True\n",
    "    \n",
    "    return False\n",
    "\n",
    "def chem_measurement_limit_not_valid(val, chem, run_id):\n",
    "    if type(val) is not str:\n",
    "        return False\n",
    "    \n",
    "    if val.startswith('>') or val.startswith('<'):\n",
    "        logging.error(f\"'{val}', the '{chem}' value for exp_run '{run_id}', is not valid. Instead give just the value and indicate limit using field '????, Ask roger'\")\n",
    "        return True\n",
    "    \n",
    "    return False\n",
    "        \n",
    "def numeric_chem_data_not_valid(val, chem, run_id):\n",
    "    if type(val) is str:\n",
    "        logging.error(f\"'{val}', the '{chem}' value for exp_run '{run_id}', is not a valid number\")\n",
    "        return True\n",
    "    \n",
    "    return False"
   ]
  },
  {
   "cell_type": "code",
   "execution_count": 10,
   "metadata": {},
   "outputs": [],
   "source": [
    "for ichem_col, ichem_dat in chem_dat.T.iterrows():\n",
    "    chem = ichem_dat.name\n",
    "    for run_id, val in ichem_dat.items():\n",
    "        if chem_not_detected_not_valid(val, chem, run_id):\n",
    "            continue\n",
    "        \n",
    "        if chem_not_measured_not_valid(val, chem, run_id):\n",
    "            continue\n",
    "        \n",
    "        if chem_measurement_limit_not_valid(val, chem, run_id):\n",
    "            continue\n",
    "        \n",
    "        numeric_chem_data_not_valid(val, chem, run_id)"
   ]
  },
  {
   "cell_type": "code",
   "execution_count": null,
   "metadata": {},
   "outputs": [],
   "source": []
  },
  {
   "cell_type": "code",
   "execution_count": 11,
   "metadata": {},
   "outputs": [
    {
     "name": "stdout",
     "output_type": "stream",
     "text": [
      "---> ERROR_(validate_chem_error_columns):: 'TiO2_err' missing from chemistry data columns.\n",
      "---> ERROR_(validate_chem_error_columns):: 'FeO*_err' missing from chemistry data columns.\n",
      "---> ERROR_(validate_chem_error_columns):: 'FeOtot_err' missing from chemistry data columns.\n",
      "---> ERROR_(validate_chem_error_columns):: 'Al2O3_err' missing from chemistry data columns.\n",
      "---> ERROR_(validate_chem_error_columns):: 'MgO_err' missing from chemistry data columns.\n",
      "---> CRITICAL_(validate_chem_units):: 'Al2O3' does not provide any units.\n",
      "---> CRITICAL_(validate_chem_method):: 'MgO' does not provide any method id.\n",
      "---> ERROR_(numeric_chem_data_not_valid):: '(1)', the 'SiO2_err' value for exp_run 'Run_1', is not a valid number.\n",
      "---> ERROR_(chem_measurement_limit_not_valid):: '<0.7', the 'TiO2' value for exp_run 'Run_4', is not valid. Instead give just the value and indicate limit using field '????, Ask roger'.\n",
      "---> ERROR_(chem_not_detected_not_valid):: 'nd', the 'TiO2' value for exp_run 'Run_5', is not valid. If not detected use vocabulary 'bdl'.\n",
      "---> ERROR_(chem_not_measured_not_valid):: '-', the 'TiO2' value for exp_run 'Run_6', is not valid. If not measured leave entry blank.\n",
      "\n"
     ]
    }
   ],
   "source": [
    "print_log_file()"
   ]
  },
  {
   "cell_type": "code",
   "execution_count": null,
   "metadata": {},
   "outputs": [],
   "source": []
  },
  {
   "cell_type": "code",
   "execution_count": null,
   "metadata": {},
   "outputs": [],
   "source": []
  }
 ],
 "metadata": {
  "kernelspec": {
   "display_name": "base",
   "language": "python",
   "name": "python3"
  },
  "language_info": {
   "codemirror_mode": {
    "name": "ipython",
    "version": 3
   },
   "file_extension": ".py",
   "mimetype": "text/x-python",
   "name": "python",
   "nbconvert_exporter": "python",
   "pygments_lexer": "ipython3",
   "version": "3.9.16"
  },
  "orig_nbformat": 4,
  "vscode": {
   "interpreter": {
    "hash": "de345016631309f3269c827a76adb3e9cc1f1e785dbffbb86cf47139fa4be742"
   }
  }
 },
 "nbformat": 4,
 "nbformat_minor": 2
}
