{
 "cells": [
  {
   "attachments": {},
   "cell_type": "markdown",
   "metadata": {},
   "source": [
    "# Proof of concept validation notebook for LEPR upload"
   ]
  },
  {
   "cell_type": "code",
   "execution_count": null,
   "metadata": {},
   "outputs": [],
   "source": [
    "import pandas as pd\n",
    "import xlrd"
   ]
  },
  {
   "cell_type": "code",
   "execution_count": null,
   "metadata": {},
   "outputs": [],
   "source": [
    "upload_data = pd.read_excel('../data/upload_validation.xlsx', sheet_name=None)"
   ]
  },
  {
   "cell_type": "code",
   "execution_count": null,
   "metadata": {},
   "outputs": [],
   "source": [
    "def extract_chem_dat(upload_data):\n",
    "    run_products = upload_data['6 Run Products']\n",
    "    \n",
    "    header_row_num = 4\n",
    "    chem_dat_col_index = 13\n",
    "    run_names = run_products.iloc[header_row_num+1:,0]\n",
    "\n",
    "    dat = run_products.iloc[:,chem_dat_col_index:]\n",
    "    dat.columns = dat.iloc[0]\n",
    "    dat = dat.iloc[1:]\n",
    "    chem_dat_info = dat.iloc[:2]\n",
    "    chem_dat_info.index = ['method_id','unit']\n",
    "\n",
    "    chem_dat = dat.iloc[header_row_num:]\n",
    "    chem_dat\n",
    "    chem_dat.index = run_names\n",
    "\n",
    "    return chem_dat, chem_dat_info"
   ]
  },
  {
   "cell_type": "code",
   "execution_count": null,
   "metadata": {},
   "outputs": [],
   "source": [
    "chem_dat, chem_dat_info = extract_chem_dat(upload_data)\n"
   ]
  },
  {
   "cell_type": "code",
   "execution_count": null,
   "metadata": {},
   "outputs": [],
   "source": [
    "chem_dat"
   ]
  },
  {
   "cell_type": "code",
   "execution_count": null,
   "metadata": {},
   "outputs": [],
   "source": []
  },
  {
   "cell_type": "code",
   "execution_count": null,
   "metadata": {},
   "outputs": [],
   "source": []
  }
 ],
 "metadata": {
  "kernelspec": {
   "display_name": "base",
   "language": "python",
   "name": "python3"
  },
  "language_info": {
   "codemirror_mode": {
    "name": "ipython",
    "version": 3
   },
   "file_extension": ".py",
   "mimetype": "text/x-python",
   "name": "python",
   "nbconvert_exporter": "python",
   "pygments_lexer": "ipython3",
   "version": "3.9.9"
  },
  "orig_nbformat": 4,
  "vscode": {
   "interpreter": {
    "hash": "de345016631309f3269c827a76adb3e9cc1f1e785dbffbb86cf47139fa4be742"
   }
  }
 },
 "nbformat": 4,
 "nbformat_minor": 2
}
