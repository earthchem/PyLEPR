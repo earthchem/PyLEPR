{
 "cells": [
  {
   "attachments": {},
   "cell_type": "markdown",
   "metadata": {},
   "source": [
    "# Proof of concept validation notebook for LEPR upload"
   ]
  },
  {
   "cell_type": "code",
   "execution_count": 1,
   "metadata": {},
   "outputs": [],
   "source": [
    "import pandas as pd\n",
    "import numpy as np\n",
    "import logging\n",
    "from pylepr import validate"
   ]
  },
  {
   "cell_type": "code",
   "execution_count": null,
   "metadata": {},
   "outputs": [],
   "source": []
  },
  {
   "cell_type": "code",
   "execution_count": 2,
   "metadata": {},
   "outputs": [],
   "source": [
    "upload_data = pd.read_excel('../data/upload_validation.xlsx', sheet_name=None)"
   ]
  },
  {
   "cell_type": "code",
   "execution_count": 5,
   "metadata": {},
   "outputs": [
    {
     "name": "stdout",
     "output_type": "stream",
     "text": [
      "---> ERROR_(validate_chem_error_columns):: 'TiO2_err' missing from chemistry data columns.\n",
      "---> ERROR_(validate_chem_error_columns):: 'FeO*_err' missing from chemistry data columns.\n",
      "---> ERROR_(validate_chem_error_columns):: 'FeOtot_err' missing from chemistry data columns.\n",
      "---> ERROR_(validate_chem_error_columns):: 'Al2O3_err' missing from chemistry data columns.\n",
      "---> ERROR_(validate_chem_error_columns):: 'MgO_err' missing from chemistry data columns.\n",
      "---> CRITICAL_(validate_chem_units):: 'Al2O3' does not provide any units.\n",
      "---> CRITICAL_(validate_chem_method):: 'MgO' does not provide any method id.\n",
      "---> ERROR_(numeric_chem_data_not_valid):: '(1)', the 'SiO2_err' value for exp_run 'Run_1', is not a valid number.\n",
      "---> ERROR_(chem_measurement_limit_not_valid):: '<0.7', the 'TiO2' value for exp_run 'Run_4', is not valid. Instead give just the value and indicate limit using field '????, Ask roger'.\n",
      "---> ERROR_(chem_not_detected_not_valid):: 'nd', the 'TiO2' value for exp_run 'Run_5', is not valid. If not detected use vocabulary 'bdl'.\n",
      "---> ERROR_(chem_not_measured_not_valid):: '-', the 'TiO2' value for exp_run 'Run_6', is not valid. If not measured leave entry blank.\n",
      "\n"
     ]
    }
   ],
   "source": [
    "validate.validate_upload(upload_data)"
   ]
  },
  {
   "cell_type": "code",
   "execution_count": null,
   "metadata": {},
   "outputs": [],
   "source": []
  },
  {
   "cell_type": "code",
   "execution_count": null,
   "metadata": {},
   "outputs": [],
   "source": []
  }
 ],
 "metadata": {
  "kernelspec": {
   "display_name": "base",
   "language": "python",
   "name": "python3"
  },
  "language_info": {
   "codemirror_mode": {
    "name": "ipython",
    "version": 3
   },
   "file_extension": ".py",
   "mimetype": "text/x-python",
   "name": "python",
   "nbconvert_exporter": "python",
   "pygments_lexer": "ipython3",
   "version": "3.9.9"
  },
  "orig_nbformat": 4,
  "vscode": {
   "interpreter": {
    "hash": "de345016631309f3269c827a76adb3e9cc1f1e785dbffbb86cf47139fa4be742"
   }
  }
 },
 "nbformat": 4,
 "nbformat_minor": 2
}
