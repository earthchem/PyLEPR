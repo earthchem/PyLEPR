{
 "cells": [
  {
   "attachments": {},
   "cell_type": "markdown",
   "metadata": {},
   "source": [
    "# Proof of concept validation notebook for LEPR upload"
   ]
  },
  {
   "cell_type": "code",
   "execution_count": null,
   "metadata": {},
   "outputs": [],
   "source": [
    "import pandas as pd\n",
    "import numpy as np\n",
    "import xlrd\n",
    "import logging\n",
    "import sys\n",
    "\n",
    "!git clone https://github.com/sarahshi/validation.git\n",
    "sys.path.insert(0,'/content/validation')\n",
    "\n",
    "from pylepr import validate"
   ]
  },
  {
   "cell_type": "code",
   "execution_count": null,
   "metadata": {},
   "outputs": [],
   "source": [
    "upload_data = pd.read_excel('https://github.com/sarahshi/validation/blob/main/upload_validation.xlsx?raw=true', sheet_name = None, engine='openpyxl')\n",
    "validate.validate_upload(upload_data)"
   ]
  }
 ],
 "metadata": {
  "kernelspec": {
   "display_name": "base",
   "language": "python",
   "name": "python3"
  },
  "language_info": {
   "codemirror_mode": {
    "name": "ipython",
    "version": 3
   },
   "file_extension": ".py",
   "mimetype": "text/x-python",
   "name": "python",
   "nbconvert_exporter": "python",
   "pygments_lexer": "ipython3",
   "version": "3.9.16"
  },
  "orig_nbformat": 4,
  "vscode": {
   "interpreter": {
    "hash": "de345016631309f3269c827a76adb3e9cc1f1e785dbffbb86cf47139fa4be742"
   }
  }
 },
 "nbformat": 4,
 "nbformat_minor": 2
}
