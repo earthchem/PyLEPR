{
 "cells": [
  {
   "attachments": {},
   "cell_type": "markdown",
   "metadata": {},
   "source": [
    "# Validation notebook for LEPR spreadsheet upload"
   ]
  },
  {
   "cell_type": "code",
   "execution_count": 1,
   "metadata": {},
   "outputs": [],
   "source": [
    "import sys\n",
    "import logging\n",
    "import numpy as np\n",
    "import pandas as pd\n",
    "\n",
    "sys.path.append('../src/')\n",
    "import PyLEPR as pl"
   ]
  },
  {
   "cell_type": "code",
   "execution_count": 2,
   "metadata": {},
   "outputs": [],
   "source": [
    "upload_data = pd.read_excel(\n",
    "    \"../data/upload_validation.xlsx\",\n",
    "    sheet_name=None,\n",
    "    engine=\"openpyxl\",\n",
    ")"
   ]
  },
  {
   "cell_type": "code",
   "execution_count": 3,
   "metadata": {},
   "outputs": [],
   "source": [
    "log_filename = 'validation_all.log'\n",
    "pl.validate_all(upload_data, log_filename)\n",
    "pl.print_log_file(log_filename)"
   ]
  },
  {
   "cell_type": "code",
   "execution_count": null,
   "metadata": {},
   "outputs": [],
   "source": [
    "chem_data_6, chem_data_info_6 = pl.extract_chem_data(upload_data, sheet='6 Data', start_col='H', start_row=7)\n",
    "display(chem_data_6)\n",
    "display(chem_data_info_6)\n",
    "\n",
    "log_filename_6 = \"validation_sheet6.log\"\n",
    "pl.begin_logging(log_filename_6)\n",
    "\n",
    "pl.validate_metadata(chem_data_info_6, start_col='H')\n",
    "\n",
    "pl.validate_chem_phase_values(chem_data_6, start_row=7)\n",
    "\n",
    "pl.print_log_file(log_filename_6)"
   ]
  },
  {
   "cell_type": "code",
   "execution_count": null,
   "metadata": {},
   "outputs": [],
   "source": [
    "chem_data_4, chem_data_info_4 = pl.extract_chem_data(upload_data, sheet='4 Bulk (Run Products)', start_col='F', start_row=7)\n",
    "display(chem_data_4)\n",
    "display(chem_data_info_4)\n",
    "\n",
    "log_filename_4 = \"validation_sheet4.log\"\n",
    "pl.begin_logging(log_filename_4)\n",
    "\n",
    "pl.validate_metadata(chem_data_info_4, start_col='F')\n",
    "\n",
    "pl.validate_chem_phase_values(chem_data_4, start_row=7)\n",
    "\n",
    "pl.print_log_file(log_filename_4)"
   ]
  },
  {
   "cell_type": "code",
   "execution_count": null,
   "metadata": {},
   "outputs": [],
   "source": [
    "dat_2 = pl.extract_data(upload_data, sheet='2 Experiments', start_col='A', start_row=7)\n",
    "display(dat_2)\n",
    "\n",
    "log_filename_2 = \"validation_sheet2.log\"\n",
    "pl.begin_logging(log_filename_2)\n",
    "\n",
    "pl.validate_required_fields(dat_2, start_row=7)\n",
    "\n",
    "pl.print_log_file(log_filename_2)"
   ]
  },
  {
   "cell_type": "code",
   "execution_count": null,
   "metadata": {},
   "outputs": [],
   "source": [
    "chem_data_3, chem_data_info_3 = pl.extract_chem_data(upload_data, sheet='3 Bulk (Starting Materials)', start_col='H', start_row=7)\n",
    "display(chem_data_3)\n",
    "display(chem_data_info_3)\n",
    "\n",
    "log_filename_3 = \"validation_sheet3.log\"\n",
    "pl.begin_logging(log_filename_3)\n",
    "\n",
    "pl.validate_metadata(chem_data_info_3, start_col='H')\n",
    "\n",
    "pl.validate_chem_phase_values(chem_data_3, start_row=7)\n",
    "\n",
    "pl.print_log_file(log_filename_3)"
   ]
  },
  {
   "cell_type": "code",
   "execution_count": null,
   "metadata": {},
   "outputs": [],
   "source": [
    "dat_5 = pl.extract_data(upload_data, sheet='5 Device Metadata', start_col='A', start_row=7)\n",
    "display(dat_5)\n",
    "\n",
    "log_filename_5 = \"validation_sheet5.log\"\n",
    "\n",
    "pl.begin_logging(log_filename_5)\n",
    "\n",
    "pl.validate_device_codes(dat_2, dat_5)\n",
    "\n",
    "pl.print_log_file(log_filename_5)"
   ]
  },
  {
   "cell_type": "code",
   "execution_count": null,
   "metadata": {},
   "outputs": [],
   "source": [
    "dat_7 = pl.extract_data(upload_data, sheet='7 Primary Method Metadata', start_col='A', start_row=7)\n",
    "dat_8 = pl.extract_data(upload_data, sheet='8 Method-Specific Metadata', start_col='A', start_row=7)\n",
    "\n",
    "log_filename_78 = \"validation_sheet78.log\"\n",
    "\n",
    "pl.begin_logging(log_filename_78)\n",
    "\n",
    "pl.validate_method_codes(chem_data_info_3, chem_data_info_4, chem_data_info_6, dat_7, dat_8)\n",
    "\n",
    "pl.print_log_file(log_filename_78)\n"
   ]
  }
 ],
 "metadata": {
  "kernelspec": {
   "display_name": "base",
   "language": "python",
   "name": "python3"
  },
  "language_info": {
   "codemirror_mode": {
    "name": "ipython",
    "version": 3
   },
   "file_extension": ".py",
   "mimetype": "text/x-python",
   "name": "python",
   "nbconvert_exporter": "python",
   "pygments_lexer": "ipython3",
   "version": "3.9.18"
  },
  "orig_nbformat": 4,
  "vscode": {
   "interpreter": {
    "hash": "de345016631309f3269c827a76adb3e9cc1f1e785dbffbb86cf47139fa4be742"
   }
  }
 },
 "nbformat": 4,
 "nbformat_minor": 2
}
